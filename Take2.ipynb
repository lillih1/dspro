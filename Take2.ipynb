{
  "nbformat": 4,
  "nbformat_minor": 0,
  "metadata": {
    "colab": {
      "name": "Take2.ipynb",
      "provenance": [],
      "collapsed_sections": []
    },
    "kernelspec": {
      "name": "python3",
      "display_name": "Python 3"
    },
    "accelerator": "GPU"
  },
  "cells": [
    {
      "cell_type": "code",
      "metadata": {
        "id": "yVygDqyn74im",
        "colab_type": "code",
        "outputId": "479484f9-19ff-4260-b809-4133184baacc",
        "colab": {
          "base_uri": "https://localhost:8080/",
          "height": 51
        }
      },
      "source": [
        "import pandas as pd\n",
        "import os\n",
        "import numpy as np\n",
        "from sklearn import datasets, linear_model\n",
        "from sklearn.model_selection import train_test_split\n",
        "from sklearn.neighbors import KNeighborsClassifier\n",
        "from sklearn.tree import DecisionTreeClassifier\n",
        "from matplotlib import pyplot as plt\n",
        "\n",
        "\n",
        "from google.colab import drive\n",
        "drive.mount('/content/drive')\n",
        "%cd \"/content/drive/My Drive/Data Science Project/data\"\n",
        "data_train = pd.read_csv(\"train.csv\")\n",
        "data_test = pd.read_csv(\"test.csv\")\n",
        "data_bids = pd.read_csv(\"bids.csv\")\n"
      ],
      "execution_count": 1,
      "outputs": [
        {
          "output_type": "stream",
          "text": [
            "Drive already mounted at /content/drive; to attempt to forcibly remount, call drive.mount(\"/content/drive\", force_remount=True).\n",
            "/content/drive/My Drive/Data Science Project/data\n"
          ],
          "name": "stdout"
        }
      ]
    },
    {
      "cell_type": "code",
      "metadata": {
        "id": "yzJlL_yX90g7",
        "colab_type": "code",
        "colab": {}
      },
      "source": [
        "data_bids = data_bids.replace({' ': ''}, regex = True)\n",
        "data_bids_sorted = data_bids.sort_values(by=['bidder_id', 'time'], ascending = [True, True]) ##sorting the data by the bidder_id and time \n",
        "bids = pd.DataFrame(data = data_bids_sorted[\"bidder_id\"].unique(), columns = [\"bidder_id\"], index = data_bids_sorted[\"bidder_id\"].unique()) "
      ],
      "execution_count": 0,
      "outputs": []
    },
    {
      "cell_type": "code",
      "metadata": {
        "id": "jotjVQNj_Ef2",
        "colab_type": "code",
        "colab": {}
      },
      "source": [
        "counts = data_bids_sorted[\"bidder_id\"].value_counts()\n",
        "bids[\"auction_count_num\"] = counts\n",
        "timediff = data_bids_sorted.groupby(\"bidder_id\")[\"time\"].diff()\n",
        "timediff_str = timediff.astype(str).fillna('')\n",
        "data_bids_sorted[\"timediff_num\"] = timediff\n",
        "data_bids_sorted[\"timediff\"] = timediff_str"
      ],
      "execution_count": 0,
      "outputs": []
    },
    {
      "cell_type": "code",
      "metadata": {
        "id": "YAPHQqJiAYzN",
        "colab_type": "code",
        "colab": {}
      },
      "source": [
        "text_cols = [\"auction\", \"merchandise\", \"device\", \"timediff\", \"country\", \"ip\", \"url\"]\n",
        "for col in text_cols:\n",
        "    text_str = col + \"s\"\n",
        "    count_str = col + \"_nunique_num\"\n",
        "    bids[text_str] = data_bids_sorted.groupby(\"bidder_id\")[col].unique()\n",
        "    bids[count_str]  = data_bids_sorted.groupby(\"bidder_id\")[col].nunique()"
      ],
      "execution_count": 0,
      "outputs": []
    },
    {
      "cell_type": "code",
      "metadata": {
        "id": "aBDhrPFQBLn6",
        "colab_type": "code",
        "colab": {}
      },
      "source": [
        "max_time = data_bids_sorted.groupby(\"bidder_id\")[\"time\"].max()\n",
        "bids[\"maxtime\"] = max_time\n",
        "min_time = data_bids_sorted.groupby(\"bidder_id\")[\"time\"].min()\n",
        "bids[\"mintime\"] = min_time\n",
        "max_diff = data_bids_sorted.groupby(\"bidder_id\")[\"timediff_num\"].max()\n",
        "max_diff = max_diff.fillna(max_diff.mean())\n",
        "bids['maxdiff_num'] = max_diff\n",
        "min_diff = data_bids_sorted.groupby(\"bidder_id\")[\"timediff_num\"].max()\n",
        "min_diff = min_diff.fillna(min_diff.mean())\n",
        "bids['mindiff_num'] = min_diff"
      ],
      "execution_count": 0,
      "outputs": []
    },
    {
      "cell_type": "code",
      "metadata": {
        "id": "1Nyt9vI1e42o",
        "colab_type": "code",
        "colab": {}
      },
      "source": [
        "overall_train = data_train.merge(data_bids,on=\"bidder_id\")\n",
        "count_stats = pd.DataFrame(columns = [\"country\", \"count\",\"total\",\"prob\"])\n",
        "for i in data_bids[\"country\"].unique():\n",
        "  count = overall_train.loc[overall_train[\"country\"] == i][\"outcome\"].sum()\n",
        "  total = len(overall_train.loc[overall_train[\"country\"] == i][\"outcome\"])\n",
        "  if(count != 0 and total >= 10):\n",
        "    count_stats = count_stats.append({\"country\" : i, \"count\": count, \"total\": total,\"prob\" : count/total},ignore_index=True)"
      ],
      "execution_count": 0,
      "outputs": []
    },
    {
      "cell_type": "code",
      "metadata": {
        "id": "j5SIohfT80Mr",
        "colab_type": "code",
        "outputId": "b68276a1-7497-4a0d-bcbc-c304a6681563",
        "colab": {
          "base_uri": "https://localhost:8080/",
          "height": 419
        }
      },
      "source": [
        "count_stats.dropna()"
      ],
      "execution_count": 10,
      "outputs": [
        {
          "output_type": "execute_result",
          "data": {
            "text/html": [
              "<div>\n",
              "<style scoped>\n",
              "    .dataframe tbody tr th:only-of-type {\n",
              "        vertical-align: middle;\n",
              "    }\n",
              "\n",
              "    .dataframe tbody tr th {\n",
              "        vertical-align: top;\n",
              "    }\n",
              "\n",
              "    .dataframe thead th {\n",
              "        text-align: right;\n",
              "    }\n",
              "</style>\n",
              "<table border=\"1\" class=\"dataframe\">\n",
              "  <thead>\n",
              "    <tr style=\"text-align: right;\">\n",
              "      <th></th>\n",
              "      <th>country</th>\n",
              "      <th>count</th>\n",
              "      <th>total</th>\n",
              "      <th>prob</th>\n",
              "    </tr>\n",
              "  </thead>\n",
              "  <tbody>\n",
              "    <tr>\n",
              "      <th>0</th>\n",
              "      <td>us</td>\n",
              "      <td>66663.0</td>\n",
              "      <td>140043</td>\n",
              "      <td>0.476018</td>\n",
              "    </tr>\n",
              "    <tr>\n",
              "      <th>1</th>\n",
              "      <td>in</td>\n",
              "      <td>86386.0</td>\n",
              "      <td>645631</td>\n",
              "      <td>0.133801</td>\n",
              "    </tr>\n",
              "    <tr>\n",
              "      <th>2</th>\n",
              "      <td>py</td>\n",
              "      <td>217.0</td>\n",
              "      <td>6126</td>\n",
              "      <td>0.035423</td>\n",
              "    </tr>\n",
              "    <tr>\n",
              "      <th>3</th>\n",
              "      <td>ru</td>\n",
              "      <td>11100.0</td>\n",
              "      <td>53874</td>\n",
              "      <td>0.206036</td>\n",
              "    </tr>\n",
              "    <tr>\n",
              "      <th>4</th>\n",
              "      <td>th</td>\n",
              "      <td>17282.0</td>\n",
              "      <td>84714</td>\n",
              "      <td>0.204004</td>\n",
              "    </tr>\n",
              "    <tr>\n",
              "      <th>...</th>\n",
              "      <td>...</td>\n",
              "      <td>...</td>\n",
              "      <td>...</td>\n",
              "      <td>...</td>\n",
              "    </tr>\n",
              "    <tr>\n",
              "      <th>171</th>\n",
              "      <td>bt</td>\n",
              "      <td>3.0</td>\n",
              "      <td>12</td>\n",
              "      <td>0.250000</td>\n",
              "    </tr>\n",
              "    <tr>\n",
              "      <th>172</th>\n",
              "      <td>re</td>\n",
              "      <td>6.0</td>\n",
              "      <td>14</td>\n",
              "      <td>0.428571</td>\n",
              "    </tr>\n",
              "    <tr>\n",
              "      <th>173</th>\n",
              "      <td>bm</td>\n",
              "      <td>5.0</td>\n",
              "      <td>14</td>\n",
              "      <td>0.357143</td>\n",
              "    </tr>\n",
              "    <tr>\n",
              "      <th>174</th>\n",
              "      <td>pg</td>\n",
              "      <td>3.0</td>\n",
              "      <td>292</td>\n",
              "      <td>0.010274</td>\n",
              "    </tr>\n",
              "    <tr>\n",
              "      <th>175</th>\n",
              "      <td>pf</td>\n",
              "      <td>9.0</td>\n",
              "      <td>14</td>\n",
              "      <td>0.642857</td>\n",
              "    </tr>\n",
              "  </tbody>\n",
              "</table>\n",
              "<p>176 rows × 4 columns</p>\n",
              "</div>"
            ],
            "text/plain": [
              "    country    count   total      prob\n",
              "0        us  66663.0  140043  0.476018\n",
              "1        in  86386.0  645631  0.133801\n",
              "2        py    217.0    6126  0.035423\n",
              "3        ru  11100.0   53874  0.206036\n",
              "4        th  17282.0   84714  0.204004\n",
              "..      ...      ...     ...       ...\n",
              "171      bt      3.0      12  0.250000\n",
              "172      re      6.0      14  0.428571\n",
              "173      bm      5.0      14  0.357143\n",
              "174      pg      3.0     292  0.010274\n",
              "175      pf      9.0      14  0.642857\n",
              "\n",
              "[176 rows x 4 columns]"
            ]
          },
          "metadata": {
            "tags": []
          },
          "execution_count": 10
        }
      ]
    },
    {
      "cell_type": "code",
      "metadata": {
        "id": "BkrNKhAGTEMy",
        "colab_type": "code",
        "outputId": "9e64f0f0-2d2f-403c-d65c-972d23638e92",
        "colab": {
          "base_uri": "https://localhost:8080/",
          "height": 611
        }
      },
      "source": [
        "count_stats = count_stats.sort_values(by=[\"count\",\"total\", \"prob\"], ascending = [False,False,True])\n",
        "count_stats\n",
        "plt.figure(figsize=(10,10))\n",
        "for i in count_stats[\"country\"][:50]:\n",
        "     plt.bar(i,count_stats.loc[count_stats[\"country\"] == i][\"prob\"])\n",
        "plt.xlabel(\"Countries\")\n",
        "plt.ylabel(\"Bot prob\")\n",
        "plt.xticks(rotation = 90)\n",
        "plt.show()"
      ],
      "execution_count": 11,
      "outputs": [
        {
          "output_type": "display_data",
          "data": {
            "image/png": "[encoded data removed]",
            "text/plain": [
              "<Figure size 720x720 with 1 Axes>"
            ]
          },
          "metadata": {
            "tags": []
          }
        }
      ]
    },
    {
      "cell_type": "code",
      "metadata": {
        "id": "nrL3FnFdBKdl",
        "colab_type": "code",
        "outputId": "d1dd6eb9-ee96-44ae-f8b9-5d2aa1d91cb0",
        "colab": {
          "base_uri": "https://localhost:8080/",
          "height": 80
        }
      },
      "source": [
        "count_stats.loc[count_stats[\"country\"] == \"jp\"]"
      ],
      "execution_count": 14,
      "outputs": [
        {
          "output_type": "execute_result",
          "data": {
            "text/html": [
              "<div>\n",
              "<style scoped>\n",
              "    .dataframe tbody tr th:only-of-type {\n",
              "        vertical-align: middle;\n",
              "    }\n",
              "\n",
              "    .dataframe tbody tr th {\n",
              "        vertical-align: top;\n",
              "    }\n",
              "\n",
              "    .dataframe thead th {\n",
              "        text-align: right;\n",
              "    }\n",
              "</style>\n",
              "<table border=\"1\" class=\"dataframe\">\n",
              "  <thead>\n",
              "    <tr style=\"text-align: right;\">\n",
              "      <th></th>\n",
              "      <th>country</th>\n",
              "      <th>count</th>\n",
              "      <th>total</th>\n",
              "      <th>prob</th>\n",
              "    </tr>\n",
              "  </thead>\n",
              "  <tbody>\n",
              "    <tr>\n",
              "      <th>72</th>\n",
              "      <td>jp</td>\n",
              "      <td>7921.0</td>\n",
              "      <td>8419</td>\n",
              "      <td>0.940848</td>\n",
              "    </tr>\n",
              "  </tbody>\n",
              "</table>\n",
              "</div>"
            ],
            "text/plain": [
              "   country   count total      prob\n",
              "72      jp  7921.0  8419  0.940848"
            ]
          },
          "metadata": {
            "tags": []
          },
          "execution_count": 14
        }
      ]
    },
    {
      "cell_type": "code",
      "metadata": {
        "id": "idX8WPvUgM3v",
        "colab_type": "code",
        "colab": {}
      },
      "source": [
        "device_stats = pd.DataFrame(columns = [\"numDevices\", \"prob\"])\n",
        "for i in bids[\"device_nunique_num\"].unique():\n",
        "  count = 0\n",
        "  total = 0 \n",
        "  data = bids[bids[\"device_nunique_num\"] == i]\n",
        "  for j in data[\"bidder_id\"]:\n",
        "    if j in overall_train[\"bidder_id\"].unique():\n",
        "      d = overall_train.loc[overall_train[\"bidder_id\"] == j][\"outcome\"].unique()\n",
        "      if(d == 1):\n",
        "        count += 1 \n",
        "        total += 1 \n",
        "      else:\n",
        "        total += 1\n",
        "  if(count != 0):\n",
        "    device_stats = device_stats.append({\"numDevices\" : i, \"count\": count, \"total\": total,\"prob\" : count/total},ignore_index=True)\n",
        "\n",
        "      "
      ],
      "execution_count": 0,
      "outputs": []
    },
    {
      "cell_type": "code",
      "metadata": {
        "id": "o-SPiW67foCu",
        "colab_type": "code",
        "colab": {
          "base_uri": "https://localhost:8080/",
          "height": 419
        },
        "outputId": "f3ad0870-91ca-4c3b-9352-44f517a646c6"
      },
      "source": [
        "device_stats"
      ],
      "execution_count": 114,
      "outputs": [
        {
          "output_type": "execute_result",
          "data": {
            "text/html": [
              "<div>\n",
              "<style scoped>\n",
              "    .dataframe tbody tr th:only-of-type {\n",
              "        vertical-align: middle;\n",
              "    }\n",
              "\n",
              "    .dataframe tbody tr th {\n",
              "        vertical-align: top;\n",
              "    }\n",
              "\n",
              "    .dataframe thead th {\n",
              "        text-align: right;\n",
              "    }\n",
              "</style>\n",
              "<table border=\"1\" class=\"dataframe\">\n",
              "  <thead>\n",
              "    <tr style=\"text-align: right;\">\n",
              "      <th></th>\n",
              "      <th>numDevices</th>\n",
              "      <th>prob</th>\n",
              "      <th>count</th>\n",
              "      <th>total</th>\n",
              "    </tr>\n",
              "  </thead>\n",
              "  <tbody>\n",
              "    <tr>\n",
              "      <th>0</th>\n",
              "      <td>1.0</td>\n",
              "      <td>0.034063</td>\n",
              "      <td>14.0</td>\n",
              "      <td>411.0</td>\n",
              "    </tr>\n",
              "    <tr>\n",
              "      <th>1</th>\n",
              "      <td>2.0</td>\n",
              "      <td>0.031414</td>\n",
              "      <td>6.0</td>\n",
              "      <td>191.0</td>\n",
              "    </tr>\n",
              "    <tr>\n",
              "      <th>2</th>\n",
              "      <td>3.0</td>\n",
              "      <td>0.016667</td>\n",
              "      <td>2.0</td>\n",
              "      <td>120.0</td>\n",
              "    </tr>\n",
              "    <tr>\n",
              "      <th>3</th>\n",
              "      <td>8.0</td>\n",
              "      <td>0.046512</td>\n",
              "      <td>2.0</td>\n",
              "      <td>43.0</td>\n",
              "    </tr>\n",
              "    <tr>\n",
              "      <th>4</th>\n",
              "      <td>6.0</td>\n",
              "      <td>0.026316</td>\n",
              "      <td>1.0</td>\n",
              "      <td>38.0</td>\n",
              "    </tr>\n",
              "    <tr>\n",
              "      <th>...</th>\n",
              "      <td>...</td>\n",
              "      <td>...</td>\n",
              "      <td>...</td>\n",
              "      <td>...</td>\n",
              "    </tr>\n",
              "    <tr>\n",
              "      <th>71</th>\n",
              "      <td>514.0</td>\n",
              "      <td>1.000000</td>\n",
              "      <td>1.0</td>\n",
              "      <td>1.0</td>\n",
              "    </tr>\n",
              "    <tr>\n",
              "      <th>72</th>\n",
              "      <td>430.0</td>\n",
              "      <td>1.000000</td>\n",
              "      <td>1.0</td>\n",
              "      <td>1.0</td>\n",
              "    </tr>\n",
              "    <tr>\n",
              "      <th>73</th>\n",
              "      <td>974.0</td>\n",
              "      <td>1.000000</td>\n",
              "      <td>1.0</td>\n",
              "      <td>1.0</td>\n",
              "    </tr>\n",
              "    <tr>\n",
              "      <th>74</th>\n",
              "      <td>371.0</td>\n",
              "      <td>1.000000</td>\n",
              "      <td>1.0</td>\n",
              "      <td>1.0</td>\n",
              "    </tr>\n",
              "    <tr>\n",
              "      <th>75</th>\n",
              "      <td>570.0</td>\n",
              "      <td>1.000000</td>\n",
              "      <td>1.0</td>\n",
              "      <td>1.0</td>\n",
              "    </tr>\n",
              "  </tbody>\n",
              "</table>\n",
              "<p>76 rows × 4 columns</p>\n",
              "</div>"
            ],
            "text/plain": [
              "    numDevices      prob  count  total\n",
              "0          1.0  0.034063   14.0  411.0\n",
              "1          2.0  0.031414    6.0  191.0\n",
              "2          3.0  0.016667    2.0  120.0\n",
              "3          8.0  0.046512    2.0   43.0\n",
              "4          6.0  0.026316    1.0   38.0\n",
              "..         ...       ...    ...    ...\n",
              "71       514.0  1.000000    1.0    1.0\n",
              "72       430.0  1.000000    1.0    1.0\n",
              "73       974.0  1.000000    1.0    1.0\n",
              "74       371.0  1.000000    1.0    1.0\n",
              "75       570.0  1.000000    1.0    1.0\n",
              "\n",
              "[76 rows x 4 columns]"
            ]
          },
          "metadata": {
            "tags": []
          },
          "execution_count": 114
        }
      ]
    },
    {
      "cell_type": "code",
      "metadata": {
        "id": "JLiXfaMzd-WN",
        "colab_type": "code",
        "colab": {
          "base_uri": "https://localhost:8080/",
          "height": 295
        },
        "outputId": "609c5f22-8d89-4dba-c281-996fe4519e52"
      },
      "source": [
        "device_stats = device_stats.sort_values(by=[\"count\",\"total\", \"prob\"], ascending = [False,False,True])\n",
        "for i in device_stats[\"numDevices\"]:\n",
        "     plt.bar(i,device_stats.loc[device_stats[\"numDevices\"] == i][\"prob\"])\n",
        "plt.xlabel(\"Number of Devices\")\n",
        "plt.ylabel(\"Bot prob\")\n",
        "plt.xticks(rotation = 90)\n",
        "plt.show()"
      ],
      "execution_count": 120,
      "outputs": [
        {
          "output_type": "display_data",
          "data": {
            "image/png": "[encoded data removed]",
            "text/plain": [
              "<Figure size 432x288 with 1 Axes>"
            ]
          },
          "metadata": {
            "tags": []
          }
        }
      ]
    },
    {
      "cell_type": "code",
      "metadata": {
        "id": "-9Iv9vnlQxoN",
        "colab_type": "code",
        "outputId": "8538be1a-dd23-42e1-cf8f-9e18b8c29d74",
        "colab": {
          "base_uri": "https://localhost:8080/",
          "height": 34
        }
      },
      "source": [
        ""
      ],
      "execution_count": 109,
      "outputs": [
        {
          "output_type": "stream",
          "text": [
            "[0.]\n"
          ],
          "name": "stdout"
        }
      ]
    },
    {
      "cell_type": "code",
      "metadata": {
        "id": "6u8fxwyKWHce",
        "colab_type": "code",
        "colab": {}
      },
      "source": [
        ""
      ],
      "execution_count": 0,
      "outputs": []
    }
  ]
}