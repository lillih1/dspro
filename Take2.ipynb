{
  "nbformat": 4,
  "nbformat_minor": 0,
  "metadata": {
    "colab": {
      "name": "Take2.ipynb",
      "provenance": []
    },
    "kernelspec": {
      "name": "python3",
      "display_name": "Python 3"
    },
    "accelerator": "GPU"
  },
  "cells": [
    {
      "cell_type": "code",
      "metadata": {
        "id": "yVygDqyn74im",
        "colab_type": "code",
        "outputId": "d418393b-f325-4083-e35f-346810c8760f",
        "colab": {
          "base_uri": "https://localhost:8080/",
          "height": 139
        }
      },
      "source": [
        "import pandas as pd\n",
        "import os\n",
        "import numpy as np\n",
        "from sklearn import datasets, linear_model\n",
        "from sklearn.model_selection import train_test_split\n",
        "from sklearn.neighbors import KNeighborsClassifier\n",
        "from sklearn.tree import DecisionTreeClassifier\n",
        "from matplotlib import pyplot as plt\n",
        "\n",
        "\n",
        "from google.colab import drive\n",
        "drive.mount('/content/drive')\n",
        "%cd \"/content/drive/My Drive/Data Science Project/data\"\n",
        "data_train = pd.read_csv(\"train.csv\")\n",
        "data_test = pd.read_csv(\"test.csv\")\n",
        "data_bids = pd.read_csv(\"bids.csv\")\n"
      ],
      "execution_count": 3,
      "outputs": [
        {
          "output_type": "stream",
          "text": [
            "Go to this URL in a browser: https://accounts.google.com/o/oauth2/auth?client_id=947318989803-6bn6qk8qdgf4n4g3pfee6491hc0brc4i.apps.googleusercontent.com&redirect_uri=urn%3Aietf%3Awg%3Aoauth%3A2.0%3Aoob&scope=email%20https%3A%2F%2Fwww.googleapis.com%2Fauth%2Fdocs.test%20https%3A%2F%2Fwww.googleapis.com%2Fauth%2Fdrive%20https%3A%2F%2Fwww.googleapis.com%2Fauth%2Fdrive.photos.readonly%20https%3A%2F%2Fwww.googleapis.com%2Fauth%2Fpeopleapi.readonly&response_type=code\n",
            "\n",
            "Enter your authorization code:\n",
            "··········\n",
            "Mounted at /content/drive\n",
            "/content/drive/My Drive/Data Science Project/data\n"
          ],
          "name": "stdout"
        }
      ]
    },
    {
      "cell_type": "code",
      "metadata": {
        "id": "yzJlL_yX90g7",
        "colab_type": "code",
        "colab": {}
      },
      "source": [
        "data_bids = data_bids.replace({' ': ''}, regex = True)"
      ],
      "execution_count": 0,
      "outputs": []
    },
    {
      "cell_type": "code",
      "metadata": {
        "id": "jotjVQNj_Ef2",
        "colab_type": "code",
        "colab": {}
      },
      "source": [
        "data_bids_sorted = data_bids.sort_values(by=['bidder_id', 'time'], ascending = [True, True]) ##sorting the data by the bidder_id and time "
      ],
      "execution_count": 0,
      "outputs": []
    },
    {
      "cell_type": "code",
      "metadata": {
        "id": "N8gBNT_X_Sot",
        "colab_type": "code",
        "colab": {}
      },
      "source": [
        "bids = pd.DataFrame(data = data_bids_sorted[\"bidder_id\"].unique(), columns = [\"bidder_id\"], index = data_bids_sorted[\"bidder_id\"].unique()) "
      ],
      "execution_count": 0,
      "outputs": []
    },
    {
      "cell_type": "code",
      "metadata": {
        "id": "AeCxA-9g_6RP",
        "colab_type": "code",
        "colab": {}
      },
      "source": [
        "counts = data_bids_sorted[\"bidder_id\"].value_counts()\n",
        "bids[\"auction_count_num\"] = counts"
      ],
      "execution_count": 0,
      "outputs": []
    },
    {
      "cell_type": "code",
      "metadata": {
        "id": "lkHMfgQdANd9",
        "colab_type": "code",
        "colab": {}
      },
      "source": [
        "timediff = data_bids_sorted.groupby(\"bidder_id\")[\"time\"].diff()\n",
        "timediff_str = timediff.astype(str).fillna('')\n",
        "data_bids_sorted[\"timediff_num\"] = timediff\n",
        "data_bids_sorted[\"timediff\"] = timediff_str"
      ],
      "execution_count": 0,
      "outputs": []
    },
    {
      "cell_type": "code",
      "metadata": {
        "id": "YAPHQqJiAYzN",
        "colab_type": "code",
        "colab": {}
      },
      "source": [
        "text_cols = [\"auction\", \"merchandise\", \"device\", \"timediff\", \"country\", \"ip\", \"url\"]\n",
        "for col in text_cols:\n",
        "    text_str = col + \"s\"\n",
        "    count_str = col + \"_nunique_num\"\n",
        "    bids[text_str] = data_bids_sorted.groupby(\"bidder_id\")[col].unique()\n",
        "    bids[count_str]  = data_bids_sorted.groupby(\"bidder_id\")[col].nunique()"
      ],
      "execution_count": 0,
      "outputs": []
    },
    {
      "cell_type": "code",
      "metadata": {
        "id": "aBDhrPFQBLn6",
        "colab_type": "code",
        "colab": {}
      },
      "source": [
        "max_time = data_bids_sorted.groupby(\"bidder_id\")[\"time\"].max()\n",
        "bids[\"maxtime\"] = max_time\n",
        "min_time = data_bids_sorted.groupby(\"bidder_id\")[\"time\"].min()\n",
        "bids[\"mintime\"] = min_time\n",
        "max_diff = data_bids_sorted.groupby(\"bidder_id\")[\"timediff_num\"].max()\n",
        "max_diff = max_diff.fillna(max_diff.mean())\n",
        "bids['maxdiff_num'] = max_diff\n",
        "min_diff = data_bids_sorted.groupby(\"bidder_id\")[\"timediff_num\"].max()\n",
        "min_diff = min_diff.fillna(min_diff.mean())\n",
        "bids['mindiff_num'] = min_diff"
      ],
      "execution_count": 0,
      "outputs": []
    },
    {
      "cell_type": "code",
      "metadata": {
        "id": "1Nyt9vI1e42o",
        "colab_type": "code",
        "colab": {}
      },
      "source": [
        "overall_train = data_train.merge(data_bids,on=\"bidder_id\")\n",
        "#a = overall_train.loc[overall_train[\"country\"] == \"in\"][\"outcome\"].sum()/len(overall_train.loc[overall_train[\"country\"] == \"in\"][\"outcome\"])\n",
        "count_stats = pd.DataFrame(columns = [\"country\", \"count\",\"total\",\"prob\"])\n",
        "for i in data_bids[\"country\"].unique():\n",
        "  count = overall_train.loc[overall_train[\"country\"] == i][\"outcome\"].sum()\n",
        "  total = len(overall_train.loc[overall_train[\"country\"] == i][\"outcome\"])\n",
        "  if(count != 0 and total >= 10):\n",
        "    count_stats = count_stats.append({\"country\" : i, \"count\": count, \"total\": total  \"prob\" : count/total},ignore_index=True)"
      ],
      "execution_count": 0,
      "outputs": []
    },
    {
      "cell_type": "code",
      "metadata": {
        "id": "j5SIohfT80Mr",
        "colab_type": "code",
        "colab": {
          "base_uri": "https://localhost:8080/",
          "height": 419
        },
        "outputId": "fbdedb43-c7f3-4640-e731-c5cf0eb1f151"
      },
      "source": [
        "count_stats.dropna()"
      ],
      "execution_count": 82,
      "outputs": [
        {
          "output_type": "execute_result",
          "data": {
            "text/html": [
              "<div>\n",
              "<style scoped>\n",
              "    .dataframe tbody tr th:only-of-type {\n",
              "        vertical-align: middle;\n",
              "    }\n",
              "\n",
              "    .dataframe tbody tr th {\n",
              "        vertical-align: top;\n",
              "    }\n",
              "\n",
              "    .dataframe thead th {\n",
              "        text-align: right;\n",
              "    }\n",
              "</style>\n",
              "<table border=\"1\" class=\"dataframe\">\n",
              "  <thead>\n",
              "    <tr style=\"text-align: right;\">\n",
              "      <th></th>\n",
              "      <th>country</th>\n",
              "      <th>count</th>\n",
              "      <th>total</th>\n",
              "      <th>prob</th>\n",
              "    </tr>\n",
              "  </thead>\n",
              "  <tbody>\n",
              "    <tr>\n",
              "      <th>0</th>\n",
              "      <td>us</td>\n",
              "      <td>66663.0</td>\n",
              "      <td>140043</td>\n",
              "      <td>0.476018</td>\n",
              "    </tr>\n",
              "    <tr>\n",
              "      <th>1</th>\n",
              "      <td>in</td>\n",
              "      <td>86386.0</td>\n",
              "      <td>645631</td>\n",
              "      <td>0.133801</td>\n",
              "    </tr>\n",
              "    <tr>\n",
              "      <th>2</th>\n",
              "      <td>py</td>\n",
              "      <td>217.0</td>\n",
              "      <td>6126</td>\n",
              "      <td>0.035423</td>\n",
              "    </tr>\n",
              "    <tr>\n",
              "      <th>3</th>\n",
              "      <td>ru</td>\n",
              "      <td>11100.0</td>\n",
              "      <td>53874</td>\n",
              "      <td>0.206036</td>\n",
              "    </tr>\n",
              "    <tr>\n",
              "      <th>4</th>\n",
              "      <td>th</td>\n",
              "      <td>17282.0</td>\n",
              "      <td>84714</td>\n",
              "      <td>0.204004</td>\n",
              "    </tr>\n",
              "    <tr>\n",
              "      <th>...</th>\n",
              "      <td>...</td>\n",
              "      <td>...</td>\n",
              "      <td>...</td>\n",
              "      <td>...</td>\n",
              "    </tr>\n",
              "    <tr>\n",
              "      <th>171</th>\n",
              "      <td>bt</td>\n",
              "      <td>3.0</td>\n",
              "      <td>12</td>\n",
              "      <td>0.250000</td>\n",
              "    </tr>\n",
              "    <tr>\n",
              "      <th>172</th>\n",
              "      <td>re</td>\n",
              "      <td>6.0</td>\n",
              "      <td>14</td>\n",
              "      <td>0.428571</td>\n",
              "    </tr>\n",
              "    <tr>\n",
              "      <th>173</th>\n",
              "      <td>bm</td>\n",
              "      <td>5.0</td>\n",
              "      <td>14</td>\n",
              "      <td>0.357143</td>\n",
              "    </tr>\n",
              "    <tr>\n",
              "      <th>174</th>\n",
              "      <td>pg</td>\n",
              "      <td>3.0</td>\n",
              "      <td>292</td>\n",
              "      <td>0.010274</td>\n",
              "    </tr>\n",
              "    <tr>\n",
              "      <th>175</th>\n",
              "      <td>pf</td>\n",
              "      <td>9.0</td>\n",
              "      <td>14</td>\n",
              "      <td>0.642857</td>\n",
              "    </tr>\n",
              "  </tbody>\n",
              "</table>\n",
              "<p>176 rows × 4 columns</p>\n",
              "</div>"
            ],
            "text/plain": [
              "    country    count   total      prob\n",
              "0        us  66663.0  140043  0.476018\n",
              "1        in  86386.0  645631  0.133801\n",
              "2        py    217.0    6126  0.035423\n",
              "3        ru  11100.0   53874  0.206036\n",
              "4        th  17282.0   84714  0.204004\n",
              "..      ...      ...     ...       ...\n",
              "171      bt      3.0      12  0.250000\n",
              "172      re      6.0      14  0.428571\n",
              "173      bm      5.0      14  0.357143\n",
              "174      pg      3.0     292  0.010274\n",
              "175      pf      9.0      14  0.642857\n",
              "\n",
              "[176 rows x 4 columns]"
            ]
          },
          "metadata": {
            "tags": []
          },
          "execution_count": 82
        }
      ]
    },
    {
      "cell_type": "code",
      "metadata": {
        "id": "BkrNKhAGTEMy",
        "colab_type": "code",
        "colab": {
          "base_uri": "https://localhost:8080/",
          "height": 611
        },
        "outputId": "406c8442-306b-4bcb-ff87-67eef5843364"
      },
      "source": [
        "count_stats = count_stats.sort_values(by=[\"count\",\"total\", \"prob\"], ascending = [False,False,False])\n",
        "count_stats\n",
        "plt.figure(figsize=(10,10))\n",
        "for i in count_stats[\"country\"][:50]:\n",
        "     plt.bar(i,count_stats.loc[count_stats[\"country\"] == i][\"prob\"])\n",
        "plt.xlabel(\"Countries\")\n",
        "plt.ylabel(\"Bot prob\")\n",
        "plt.xticks(rotation = 90)\n",
        "plt.show()"
      ],
      "execution_count": 109,
      "outputs": [
        {
          "output_type": "display_data",
          "data": {
            "image/png": "[encoded data removed]",
            "text/plain": [
              "<Figure size 720x720 with 1 Axes>"
            ]
          },
          "metadata": {
            "tags": []
          }
        }
      ]
    },
    {
      "cell_type": "code",
      "metadata": {
        "id": "nrL3FnFdBKdl",
        "colab_type": "code",
        "colab": {
          "base_uri": "https://localhost:8080/",
          "height": 80
        },
        "outputId": "7303f23f-d14c-4ef2-b229-6e3a38e092ed"
      },
      "source": [
        "count_stats.loc[count_stats[\"country\"] == \"jp\"]"
      ],
      "execution_count": 110,
      "outputs": [
        {
          "output_type": "execute_result",
          "data": {
            "text/html": [
              "<div>\n",
              "<style scoped>\n",
              "    .dataframe tbody tr th:only-of-type {\n",
              "        vertical-align: middle;\n",
              "    }\n",
              "\n",
              "    .dataframe tbody tr th {\n",
              "        vertical-align: top;\n",
              "    }\n",
              "\n",
              "    .dataframe thead th {\n",
              "        text-align: right;\n",
              "    }\n",
              "</style>\n",
              "<table border=\"1\" class=\"dataframe\">\n",
              "  <thead>\n",
              "    <tr style=\"text-align: right;\">\n",
              "      <th></th>\n",
              "      <th>country</th>\n",
              "      <th>count</th>\n",
              "      <th>total</th>\n",
              "      <th>prob</th>\n",
              "    </tr>\n",
              "  </thead>\n",
              "  <tbody>\n",
              "    <tr>\n",
              "      <th>72</th>\n",
              "      <td>jp</td>\n",
              "      <td>7921.0</td>\n",
              "      <td>8419</td>\n",
              "      <td>0.940848</td>\n",
              "    </tr>\n",
              "  </tbody>\n",
              "</table>\n",
              "</div>"
            ],
            "text/plain": [
              "   country   count total      prob\n",
              "72      jp  7921.0  8419  0.940848"
            ]
          },
          "metadata": {
            "tags": []
          },
          "execution_count": 110
        }
      ]
    },
    {
      "cell_type": "code",
      "metadata": {
        "id": "idX8WPvUgM3v",
        "colab_type": "code",
        "colab": {}
      },
      "source": [
        "device_stats = pd.DataFrame(columns = [\"numDevices\", \"prob\"])\n",
        "for i in bids[\"device_nunique_num\"].unique():\n",
        "  count = 0\n",
        "  data = bids[bids[\"device_nunique_num\"] == i]\n",
        "  total = len(data)\n",
        "  for bidder in data[\"bidder_id\"]:\n",
        "    outcome = overall_train.loc[overall_train[\"bidder_id\"] == i][\"outcome\"] \n",
        "    if (outcome == 0.0).bool():\n",
        "      count+=1\n",
        "  device_stats = device_stats.append({\"numDevices\" : i, \"count\" : overall_train.loc[overall_train[\"country\"] == i][\"outcome\"].sum()},ignore_index=True)\n",
        "  \n",
        "\n"
      ],
      "execution_count": 0,
      "outputs": []
    },
    {
      "cell_type": "code",
      "metadata": {
        "id": "-9Iv9vnlQxoN",
        "colab_type": "code",
        "colab": {
          "base_uri": "https://localhost:8080/",
          "height": 952
        },
        "outputId": "0de8f05f-a3fe-4cb1-da06-d931e7d354fe"
      },
      "source": [
        "bids[\"device_nunique_num\"].unique()"
      ],
      "execution_count": 34,
      "outputs": [
        {
          "output_type": "execute_result",
          "data": {
            "text/plain": [
              "array([   1,    2,    3,    8,    6,  518,   45,    4,   67,   92,  204,\n",
              "         40,  363,  165,   27,   86,   16,   34,   28,   13,    7,   38,\n",
              "         55,   14,   94,   41,   12,  241,   18,   35,   70,  527,  232,\n",
              "        150,  390,  611,  786,  396,  104,   31,    9,   19,   57,   56,\n",
              "        650,   15,  414,   11,   85,   24,  162,  148,  503,   21,  927,\n",
              "         79,  278,  920,  229,  119,   52,   30,  354,   64,  196,   48,\n",
              "         43,   82,   26,  185,   66,  762,   29,    5,   17,  145,   61,\n",
              "         60,   71,  192,  159,   73,   32,   84,  125,   20,   98,  235,\n",
              "        138,  361,  448,   23,  559,  486,  202,  206,  365,  178,  564,\n",
              "         75,  260,  340,  405,   36,  219,   78,  245,  218,  215,  376,\n",
              "        416,   47,  239,  852,  349,   58,  742,   25,  115,  392,   37,\n",
              "        167,   91,  290,  132,   50,  153,  312,   96,   51,  199,   42,\n",
              "        238,  566,  163,  443,  315,  475,  140,  388,   10,   44,  170,\n",
              "        482,   46,   87,  143,   39, 1985,  441,  336,   22,  279,  173,\n",
              "        123,  424,  129,   54,  554,  256,  181,  322,  689,  156,  452,\n",
              "        316,  370,   72,  149,  133,  418,  102,  473, 1246,  621,  250,\n",
              "        122,  222,  682,  470,  373,  524,  280,   59,   95,  211,   99,\n",
              "        721,  134,  454,  228,  126,  954,   77,  142,   88,  255,  986,\n",
              "        147,   97,  124,  272,  141, 1463,  135,  117,  678,   93,   33,\n",
              "        468,  301,  105,  270,  298, 1398,  116,  739,  179,   69,   49,\n",
              "        249,  404,  292,   81,  645,   83,  436,  113,  410,  327,  203,\n",
              "        189,  226,  118,  152,  411,  320,  111,  790,  531,   89,  407,\n",
              "        158,   74,  176, 1474,  127,  553,  480,  175,  172,  384,  462,\n",
              "        356,  169,  268,  308,  310,  499,  130,  220,  103,  193,  307,\n",
              "        704,  326,  449,  157,  112,  212, 1187,   62,  164,  522,  182,\n",
              "        612,  389, 1009, 2069,  108,  208,  194,  243,  399,  224,  244,\n",
              "        283,  337,  236,  528,  644,  743,  207,  333,  114,  505,  697,\n",
              "        594,  319,  266,   76,  205,  432,   65,  698,  417,  177,  533,\n",
              "        213,  155, 1192,  160,  107,  186, 1306,  195,  719,  200,  324,\n",
              "        382,  265,  341,   53,  540,  217,  285,   63,  221,  166,  846,\n",
              "        590,  174,  935,  151,  262,  931,  101,  481,  476,  187,  251,\n",
              "        293,  849,  321,  216,  263,  109,  574,  395,  139,  201,  386,\n",
              "       1188,  703,  718,  425,  276,  444,   90,  347,  653,  378,  690,\n",
              "        456,  353,  289,  302,  110,  137,  168,  635,  330,   80,  744,\n",
              "        380,  346,  474,  136,  144,  128,  495,   68,  445,  161,  297,\n",
              "        258, 1155, 1566,  146,  331,  171,  348,  447,  958, 1091,  234,\n",
              "        120,  342,  154,  520,  180,  223,  344,  508, 1029,  788,  267,\n",
              "       1606, 1575,  100,  537,  544,  352,  393,  412,  391, 1089,  838,\n",
              "        519, 1610,  121,  597,  351,  300,  902,  929,  288,  214, 1206,\n",
              "        106,  661,  791,  906, 1820, 1241,  332,  415,  966,  978,  636,\n",
              "        131,  188,  402,  936,  684,  387,  487,  191,  477,  237,  446,\n",
              "        492,  367,  794,  233,  277,  305,  274,  654,  406,  338, 1121,\n",
              "        886, 1044,  355,  453,  323,  294,  464,  525,  317,  375,  197,\n",
              "        631,  617,  240, 1405,  275,  801,  666,  261,  507,  633,  364,\n",
              "        702,  259, 1625,  461,  463, 1086,  963,  408,  710,  550, 1144,\n",
              "        231, 1015,  350,  246, 1295,  369,  523,  619,  271,  334,  738,\n",
              "        286,  451,  589,  227,  730,  296,  299,  362,  304,  183,  926,\n",
              "        514,  309,  545, 2020,  190,  614,  291,  571,  282,  701,  964,\n",
              "        731,  569,  247, 1492,  252,  637, 1494,  459,  498,  273,  848,\n",
              "        748,  198,  374,  254,  504,  287,  802,  674,  595,  401,  478,\n",
              "       1198,  430,  974,  709,  371,  940,  434,  440,  592,  479,  570,\n",
              "        366, 1014,  489,  750,  818, 1040,  403,  556,  646, 1284, 1396,\n",
              "        248,  601,  209,  840,  409,  438,  887,  692,  314,  896,  535,\n",
              "        343,  339, 1461,  335,  313,  677,  560,  608,  772,  939,  510,\n",
              "        379,  427,  210,  397, 2618,  680,  358,  726,  563, 1081,  792])"
            ]
          },
          "metadata": {
            "tags": []
          },
          "execution_count": 34
        }
      ]
    },
    {
      "cell_type": "code",
      "metadata": {
        "id": "6u8fxwyKWHce",
        "colab_type": "code",
        "colab": {}
      },
      "source": [
        ""
      ],
      "execution_count": 0,
      "outputs": []
    }
  ]
}