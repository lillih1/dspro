{
  "nbformat": 4,
  "nbformat_minor": 0,
  "metadata": {
    "colab": {
      "name": "Take2.ipynb",
      "provenance": []
    },
    "kernelspec": {
      "name": "python3",
      "display_name": "Python 3"
    },
    "accelerator": "GPU"
  },
  "cells": [
    {
      "cell_type": "code",
      "metadata": {
        "id": "yVygDqyn74im",
        "colab_type": "code",
        "outputId": "d418393b-f325-4083-e35f-346810c8760f",
        "colab": {
          "base_uri": "https://localhost:8080/",
          "height": 139
        }
      },
      "source": [
        "import pandas as pd\n",
        "import os\n",
        "import numpy as np\n",
        "from sklearn import datasets, linear_model\n",
        "from sklearn.model_selection import train_test_split\n",
        "from sklearn.neighbors import KNeighborsClassifier\n",
        "from sklearn.tree import DecisionTreeClassifier\n",
        "from matplotlib import pyplot as plt\n",
        "\n",
        "\n",
        "from google.colab import drive\n",
        "drive.mount('/content/drive')\n",
        "%cd \"/content/drive/My Drive/Data Science Project/data\"\n",
        "data_train = pd.read_csv(\"train.csv\")\n",
        "data_test = pd.read_csv(\"test.csv\")\n",
        "data_bids = pd.read_csv(\"bids.csv\")\n"
      ],
      "execution_count": 3,
      "outputs": [
        {
          "output_type": "stream",
          "text": [
            "Go to this URL in a browser: https://accounts.google.com/o/oauth2/auth?client_id=947318989803-6bn6qk8qdgf4n4g3pfee6491hc0brc4i.apps.googleusercontent.com&redirect_uri=urn%3Aietf%3Awg%3Aoauth%3A2.0%3Aoob&scope=email%20https%3A%2F%2Fwww.googleapis.com%2Fauth%2Fdocs.test%20https%3A%2F%2Fwww.googleapis.com%2Fauth%2Fdrive%20https%3A%2F%2Fwww.googleapis.com%2Fauth%2Fdrive.photos.readonly%20https%3A%2F%2Fwww.googleapis.com%2Fauth%2Fpeopleapi.readonly&response_type=code\n",
            "\n",
            "Enter your authorization code:\n",
            "··········\n",
            "Mounted at /content/drive\n",
            "/content/drive/My Drive/Data Science Project/data\n"
          ],
          "name": "stdout"
        }
      ]
    },
    {
      "cell_type": "code",
      "metadata": {
        "id": "yzJlL_yX90g7",
        "colab_type": "code",
        "colab": {}
      },
      "source": [
        "data_bids = data_bids.replace({' ': ''}, regex = True)"
      ],
      "execution_count": 0,
      "outputs": []
    },
    {
      "cell_type": "code",
      "metadata": {
        "id": "jotjVQNj_Ef2",
        "colab_type": "code",
        "colab": {}
      },
      "source": [
        "data_bids_sorted = data_bids.sort_values(by=['bidder_id', 'time'], ascending = [True, True]) ##sorting the data by the bidder_id and time "
      ],
      "execution_count": 0,
      "outputs": []
    },
    {
      "cell_type": "code",
      "metadata": {
        "id": "N8gBNT_X_Sot",
        "colab_type": "code",
        "colab": {}
      },
      "source": [
        "bids = pd.DataFrame(data = data_bids_sorted[\"bidder_id\"].unique(), columns = [\"bidder_id\"], index = data_bids_sorted[\"bidder_id\"].unique()) "
      ],
      "execution_count": 0,
      "outputs": []
    },
    {
      "cell_type": "code",
      "metadata": {
        "id": "AeCxA-9g_6RP",
        "colab_type": "code",
        "colab": {}
      },
      "source": [
        "counts = data_bids_sorted[\"bidder_id\"].value_counts()\n",
        "bids[\"auction_count_num\"] = counts"
      ],
      "execution_count": 0,
      "outputs": []
    },
    {
      "cell_type": "code",
      "metadata": {
        "id": "lkHMfgQdANd9",
        "colab_type": "code",
        "colab": {}
      },
      "source": [
        "timediff = data_bids_sorted.groupby(\"bidder_id\")[\"time\"].diff()\n",
        "timediff_str = timediff.astype(str).fillna('')\n",
        "data_bids_sorted[\"timediff_num\"] = timediff\n",
        "data_bids_sorted[\"timediff\"] = timediff_str"
      ],
      "execution_count": 0,
      "outputs": []
    },
    {
      "cell_type": "code",
      "metadata": {
        "id": "YAPHQqJiAYzN",
        "colab_type": "code",
        "colab": {}
      },
      "source": [
        "text_cols = [\"auction\", \"merchandise\", \"device\", \"timediff\", \"country\", \"ip\", \"url\"]\n",
        "for col in text_cols:\n",
        "    text_str = col + \"s\"\n",
        "    count_str = col + \"_nunique_num\"\n",
        "    bids[text_str] = data_bids_sorted.groupby(\"bidder_id\")[col].unique()\n",
        "    bids[count_str]  = data_bids_sorted.groupby(\"bidder_id\")[col].nunique()"
      ],
      "execution_count": 0,
      "outputs": []
    },
    {
      "cell_type": "code",
      "metadata": {
        "id": "aBDhrPFQBLn6",
        "colab_type": "code",
        "colab": {}
      },
      "source": [
        "max_time = data_bids_sorted.groupby(\"bidder_id\")[\"time\"].max()\n",
        "bids[\"maxtime\"] = max_time\n",
        "min_time = data_bids_sorted.groupby(\"bidder_id\")[\"time\"].min()\n",
        "bids[\"mintime\"] = min_time\n",
        "max_diff = data_bids_sorted.groupby(\"bidder_id\")[\"timediff_num\"].max()\n",
        "max_diff = max_diff.fillna(max_diff.mean())\n",
        "bids['maxdiff_num'] = max_diff\n",
        "min_diff = data_bids_sorted.groupby(\"bidder_id\")[\"timediff_num\"].max()\n",
        "min_diff = min_diff.fillna(min_diff.mean())\n",
        "bids['mindiff_num'] = min_diff"
      ],
      "execution_count": 0,
      "outputs": []
    },
    {
      "cell_type": "code",
      "metadata": {
        "id": "nrL3FnFdBKdl",
        "colab_type": "code",
        "colab": {
          "base_uri": "https://localhost:8080/",
          "height": 419
        },
        "outputId": "4e6088d6-e19d-4118-c716-6edc5d8c8995"
      },
      "source": [
        "data_bids.loc[data_bids[\"country\"] == \"in\"]"
      ],
      "execution_count": 11,
      "outputs": [
        {
          "output_type": "execute_result",
          "data": {
            "text/html": [
              "<div>\n",
              "<style scoped>\n",
              "    .dataframe tbody tr th:only-of-type {\n",
              "        vertical-align: middle;\n",
              "    }\n",
              "\n",
              "    .dataframe tbody tr th {\n",
              "        vertical-align: top;\n",
              "    }\n",
              "\n",
              "    .dataframe thead th {\n",
              "        text-align: right;\n",
              "    }\n",
              "</style>\n",
              "<table border=\"1\" class=\"dataframe\">\n",
              "  <thead>\n",
              "    <tr style=\"text-align: right;\">\n",
              "      <th></th>\n",
              "      <th>bid_id</th>\n",
              "      <th>bidder_id</th>\n",
              "      <th>auction</th>\n",
              "      <th>merchandise</th>\n",
              "      <th>device</th>\n",
              "      <th>time</th>\n",
              "      <th>country</th>\n",
              "      <th>ip</th>\n",
              "      <th>url</th>\n",
              "    </tr>\n",
              "  </thead>\n",
              "  <tbody>\n",
              "    <tr>\n",
              "      <th>1</th>\n",
              "      <td>1</td>\n",
              "      <td>668d393e858e8126275433046bbd35c6tywop</td>\n",
              "      <td>aeqok</td>\n",
              "      <td>furniture</td>\n",
              "      <td>phone1</td>\n",
              "      <td>9759243157894736</td>\n",
              "      <td>in</td>\n",
              "      <td>50.201.125.84</td>\n",
              "      <td>jmqlhflrzwuay9c</td>\n",
              "    </tr>\n",
              "    <tr>\n",
              "      <th>3</th>\n",
              "      <td>3</td>\n",
              "      <td>3939ac3ef7d472a59a9c5f893dd3e39fh9ofi</td>\n",
              "      <td>jefix</td>\n",
              "      <td>jewelry</td>\n",
              "      <td>phone4</td>\n",
              "      <td>9759243157894736</td>\n",
              "      <td>in</td>\n",
              "      <td>18.99.175.133</td>\n",
              "      <td>vasstdc27m7nks3</td>\n",
              "    </tr>\n",
              "    <tr>\n",
              "      <th>4</th>\n",
              "      <td>4</td>\n",
              "      <td>8393c48eaf4b8fa96886edc7cf27b372dsibi</td>\n",
              "      <td>jefix</td>\n",
              "      <td>jewelry</td>\n",
              "      <td>phone5</td>\n",
              "      <td>9759243157894736</td>\n",
              "      <td>in</td>\n",
              "      <td>145.138.5.37</td>\n",
              "      <td>vasstdc27m7nks3</td>\n",
              "    </tr>\n",
              "    <tr>\n",
              "      <th>12</th>\n",
              "      <td>12</td>\n",
              "      <td>990db0dcdb665fb8fda5845b3e5d63082mbqq</td>\n",
              "      <td>jefix</td>\n",
              "      <td>homegoods</td>\n",
              "      <td>phone12</td>\n",
              "      <td>9759243263157894</td>\n",
              "      <td>in</td>\n",
              "      <td>200.212.4.79</td>\n",
              "      <td>f07dfiidpjifv9w</td>\n",
              "    </tr>\n",
              "    <tr>\n",
              "      <th>13</th>\n",
              "      <td>13</td>\n",
              "      <td>7e34a26c4c339e875997f4b9239d2b5fscng4</td>\n",
              "      <td>nbx39</td>\n",
              "      <td>mobile</td>\n",
              "      <td>phone13</td>\n",
              "      <td>9759243263157894</td>\n",
              "      <td>in</td>\n",
              "      <td>143.183.225.33</td>\n",
              "      <td>e5i17pk9wygxewv</td>\n",
              "    </tr>\n",
              "    <tr>\n",
              "      <th>...</th>\n",
              "      <td>...</td>\n",
              "      <td>...</td>\n",
              "      <td>...</td>\n",
              "      <td>...</td>\n",
              "      <td>...</td>\n",
              "      <td>...</td>\n",
              "      <td>...</td>\n",
              "      <td>...</td>\n",
              "      <td>...</td>\n",
              "    </tr>\n",
              "    <tr>\n",
              "      <th>7656308</th>\n",
              "      <td>7656308</td>\n",
              "      <td>7264bde42ef4fe3fa19cc7c6d64696cf7pqtd</td>\n",
              "      <td>jqx39</td>\n",
              "      <td>jewelry</td>\n",
              "      <td>phone3</td>\n",
              "      <td>9709221947368421</td>\n",
              "      <td>in</td>\n",
              "      <td>181.56.172.244</td>\n",
              "      <td>a0f2j3fwdr0711h</td>\n",
              "    </tr>\n",
              "    <tr>\n",
              "      <th>7656311</th>\n",
              "      <td>7656311</td>\n",
              "      <td>11d5f6925da5809e2d447788b85d6253jj8fu</td>\n",
              "      <td>k3vyk</td>\n",
              "      <td>jewelry</td>\n",
              "      <td>phone98</td>\n",
              "      <td>9709222000000000</td>\n",
              "      <td>in</td>\n",
              "      <td>173.149.164.232</td>\n",
              "      <td>vasstdc27m7nks3</td>\n",
              "    </tr>\n",
              "    <tr>\n",
              "      <th>7656314</th>\n",
              "      <td>7656314</td>\n",
              "      <td>f5b2bbad20d1d7ded3ed960393bec0f40u6hn</td>\n",
              "      <td>t6vqu</td>\n",
              "      <td>sportinggoods</td>\n",
              "      <td>phone93</td>\n",
              "      <td>9709222000000000</td>\n",
              "      <td>in</td>\n",
              "      <td>152.5.81.191</td>\n",
              "      <td>0pohd8rlkkwjhmc</td>\n",
              "    </tr>\n",
              "    <tr>\n",
              "      <th>7656322</th>\n",
              "      <td>7656322</td>\n",
              "      <td>ab536d878cbf7fd8347859dcec97ca2a9oz07</td>\n",
              "      <td>jqx39</td>\n",
              "      <td>jewelry</td>\n",
              "      <td>phone35</td>\n",
              "      <td>9709222000000000</td>\n",
              "      <td>in</td>\n",
              "      <td>76.122.132.27</td>\n",
              "      <td>9vntn3qqkm0h60m</td>\n",
              "    </tr>\n",
              "    <tr>\n",
              "      <th>7656326</th>\n",
              "      <td>7656326</td>\n",
              "      <td>03aafab9868455b78f0723eda86698ba9v9rm</td>\n",
              "      <td>lw44y</td>\n",
              "      <td>mobile</td>\n",
              "      <td>phone16</td>\n",
              "      <td>9709222052631578</td>\n",
              "      <td>in</td>\n",
              "      <td>5.146.235.202</td>\n",
              "      <td>oqknoadbcbcm6so</td>\n",
              "    </tr>\n",
              "  </tbody>\n",
              "</table>\n",
              "<p>1788731 rows × 9 columns</p>\n",
              "</div>"
            ],
            "text/plain": [
              "          bid_id  ...              url\n",
              "1              1  ...  jmqlhflrzwuay9c\n",
              "3              3  ...  vasstdc27m7nks3\n",
              "4              4  ...  vasstdc27m7nks3\n",
              "12            12  ...  f07dfiidpjifv9w\n",
              "13            13  ...  e5i17pk9wygxewv\n",
              "...          ...  ...              ...\n",
              "7656308  7656308  ...  a0f2j3fwdr0711h\n",
              "7656311  7656311  ...  vasstdc27m7nks3\n",
              "7656314  7656314  ...  0pohd8rlkkwjhmc\n",
              "7656322  7656322  ...  9vntn3qqkm0h60m\n",
              "7656326  7656326  ...  oqknoadbcbcm6so\n",
              "\n",
              "[1788731 rows x 9 columns]"
            ]
          },
          "metadata": {
            "tags": []
          },
          "execution_count": 11
        }
      ]
    },
    {
      "cell_type": "code",
      "metadata": {
        "id": "1Nyt9vI1e42o",
        "colab_type": "code",
        "colab": {}
      },
      "source": [
        "overall_train = data_train.merge(data_bids,on=\"bidder_id\")\n",
        "a = overall_train.loc[overall_train[\"country\"] == \"in\"][\"outcome\"].sum()\n",
        "count_stats = pd.DataFrame(columns = [\"country\", \"count\"])\n",
        "for i in data_bids[\"country\"].unique():\n",
        "   count_stats = count_stats.append({\"country\" : i, \"count\" : overall_train.loc[overall_train[\"country\"] == i][\"outcome\"].sum()},ignore_index=True)"
      ],
      "execution_count": 0,
      "outputs": []
    },
    {
      "cell_type": "code",
      "metadata": {
        "id": "j5SIohfT80Mr",
        "colab_type": "code",
        "colab": {}
      },
      "source": [
        ""
      ],
      "execution_count": 0,
      "outputs": []
    },
    {
      "cell_type": "code",
      "metadata": {
        "id": "BkrNKhAGTEMy",
        "colab_type": "code",
        "colab": {
          "base_uri": "https://localhost:8080/",
          "height": 611
        },
        "outputId": "69ac3e2d-ba99-457d-92a8-429d6767bbbe"
      },
      "source": [
        "country_stats = country_stats.sort_values(by=\"count\", ascending = False)\n",
        "plt.figure(figsize=(10,10))\n",
        "for i in country_stats[\"country\"][:50]:\n",
        "    plt.bar(i,country_stats.loc[count_stats[\"country\"] == i ][\"count\"])\n",
        "plt.xlabel(\"Countries\")\n",
        "plt.ylabel(\"Bot counts\")\n",
        "plt.xticks(rotation = 90)\n",
        "plt.show()"
      ],
      "execution_count": 20,
      "outputs": [
        {
          "output_type": "display_data",
          "data": {
            "image/png": "[encoded data removed]",
            "text/plain": [
              "<Figure size 720x720 with 1 Axes>"
            ]
          },
          "metadata": {
            "tags": []
          }
        }
      ]
    },
    {
      "cell_type": "code",
      "metadata": {
        "id": "idX8WPvUgM3v",
        "colab_type": "code",
        "colab": {}
      },
      "source": [
        ""
      ],
      "execution_count": 0,
      "outputs": []
    }
  ]
}